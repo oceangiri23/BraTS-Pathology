{
 "cells": [
  {
   "cell_type": "markdown",
   "id": "56f136e5",
   "metadata": {},
   "source": [
    "- 0: CT\n",
    "- 1: PN\n",
    "- 2: MP\n",
    "- 3: NC\n",
    "- 4: IC\n",
    "- 5: WM\n",
    "- 6: LI\n",
    "- 7: DM\n",
    "- 8: PL"
   ]
  },
  {
   "cell_type": "code",
   "execution_count": 3,
   "id": "8d4035b6",
   "metadata": {},
   "outputs": [
    {
     "name": "stdout",
     "output_type": "stream",
     "text": [
      "Prediction\n",
      "0    28992\n",
      "4    17349\n",
      "3    11972\n",
      "1     9023\n",
      "2     3008\n",
      "5     2141\n",
      "6      779\n",
      "8      541\n",
      "7       83\n",
      "Name: count, dtype: int64\n"
     ]
    }
   ],
   "source": [
    "import pandas as pd \n",
    "\n",
    "df= pd.read_csv('First_submission.csv')\n",
    "\n",
    "print(df[\"Prediction\"].value_counts())"
   ]
  },
  {
   "cell_type": "code",
   "execution_count": 5,
   "id": "b7ffb404",
   "metadata": {},
   "outputs": [
    {
     "name": "stdout",
     "output_type": "stream",
     "text": [
      "Prediction\n",
      "0    25527\n",
      "3    15273\n",
      "1    14440\n",
      "4     9113\n",
      "2     5068\n",
      "5     2628\n",
      "8      922\n",
      "6      845\n",
      "7       72\n",
      "Name: count, dtype: int64\n",
      "Prediction\n",
      "0    25629\n",
      "3    15288\n",
      "1    14411\n",
      "4     9072\n",
      "2     5048\n",
      "5     2584\n",
      "8      927\n",
      "6      853\n",
      "7       76\n",
      "Name: count, dtype: int64\n"
     ]
    }
   ],
   "source": [
    "import pandas as pd\n",
    "df= pd.read_csv('Fifteenth_submission.csv')\n",
    "\n",
    "print(df[\"Prediction\"].value_counts())\n",
    "\n",
    "\n",
    "df= pd.read_csv('Fourteenth_submission.csv')\n",
    "\n",
    "print(df[\"Prediction\"].value_counts())"
   ]
  },
  {
   "cell_type": "code",
   "execution_count": 3,
   "id": "0c48bb27",
   "metadata": {},
   "outputs": [
    {
     "name": "stdout",
     "output_type": "stream",
     "text": [
      "Correlation between the two predictions: 0.5005\n"
     ]
    }
   ],
   "source": [
    "import pandas as pd\n",
    "\n",
    "# Load the two CSV files\n",
    "df1 = pd.read_csv(\"First_submission.csv\")\n",
    "df2 = pd.read_csv(\"Fourteenth_submission.csv\")\n",
    "\n",
    "# Ensure they have the same length\n",
    "assert len(df1) == len(df2), \"CSV files must have the same number of rows\"\n",
    "\n",
    "# Compute correlation between the 'Prediction' columns\n",
    "correlation = df1[\"Prediction\"].corr(df2[\"Prediction\"])\n",
    "\n",
    "print(f\"Correlation between the two predictions: {correlation:.4f}\")\n"
   ]
  },
  {
   "cell_type": "code",
   "execution_count": null,
   "id": "ab4db592",
   "metadata": {},
   "outputs": [],
   "source": [
    "# sixteenth 0.6676\n",
    "#elevent "
   ]
  }
 ],
 "metadata": {
  "kernelspec": {
   "display_name": "giri",
   "language": "python",
   "name": "python3"
  },
  "language_info": {
   "codemirror_mode": {
    "name": "ipython",
    "version": 3
   },
   "file_extension": ".py",
   "mimetype": "text/x-python",
   "name": "python",
   "nbconvert_exporter": "python",
   "pygments_lexer": "ipython3",
   "version": "3.10.18"
  }
 },
 "nbformat": 4,
 "nbformat_minor": 5
}
